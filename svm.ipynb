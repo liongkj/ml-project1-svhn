{
 "cells": [
  {
   "cell_type": "code",
   "execution_count": null,
   "id": "amateur-massachusetts",
   "metadata": {
    "colab": {
     "base_uri": "https://localhost:8080/"
    },
    "executionInfo": {
     "elapsed": 3358,
     "status": "ok",
     "timestamp": 1621865775090,
     "user": {
      "displayName": "Liong Khai Jiet",
      "photoUrl": "https://lh3.googleusercontent.com/a-/AOh14Gi9KogFoqUcjOVNfh9iF8mXfIjukzhE71JuafAilg=s64",
      "userId": "08327391680322134159"
     },
     "user_tz": -480
    },
    "id": "amateur-massachusetts",
    "outputId": "d3bcaad1-4ed0-443e-8c4b-2ca7fec29a47"
   },
   "outputs": [],
   "source": [
    "from google.colab import drive\n",
    "! pip install pytorch-lightning --quiet\n",
    "drive.mount('/content/drive/')\n",
    "%cd ./drive/MyDrive/Colab\\ Notebooks/mlearning"
   ]
  },
  {
   "cell_type": "code",
   "execution_count": null,
   "id": "incredible-police",
   "metadata": {
    "colab": {
     "base_uri": "https://localhost:8080/"
    },
    "executionInfo": {
     "elapsed": 2155,
     "status": "ok",
     "timestamp": 1621865777237,
     "user": {
      "displayName": "Liong Khai Jiet",
      "photoUrl": "https://lh3.googleusercontent.com/a-/AOh14Gi9KogFoqUcjOVNfh9iF8mXfIjukzhE71JuafAilg=s64",
      "userId": "08327391680322134159"
     },
     "user_tz": -480
    },
    "id": "incredible-police",
    "outputId": "7b6dff08-911d-445b-de9e-4d325dbe0efd"
   },
   "outputs": [],
   "source": [
    "from util import *\n",
    "from sklearn.svm import SVC, LinearSVC\n",
    "from sklearn.decomposition import PCA\n",
    "from sklearn import preprocessing\n",
    "from sklearn.metrics import classification_report\n",
    "from sklearn.linear_model import SGDClassifier\n",
    "import seaborn as sns\n",
    "from sklearn.pipeline import make_pipeline\n",
    "import matplotlib.pyplot as plt"
   ]
  },
  {
   "cell_type": "code",
   "execution_count": null,
   "id": "identical-ribbon",
   "metadata": {
    "colab": {
     "base_uri": "https://localhost:8080/"
    },
    "executionInfo": {
     "elapsed": 2336,
     "status": "ok",
     "timestamp": 1621865779567,
     "user": {
      "displayName": "Liong Khai Jiet",
      "photoUrl": "https://lh3.googleusercontent.com/a-/AOh14Gi9KogFoqUcjOVNfh9iF8mXfIjukzhE71JuafAilg=s64",
      "userId": "08327391680322134159"
     },
     "user_tz": -480
    },
    "id": "identical-ribbon",
    "outputId": "75808869-dcb1-493f-eb18-8c3f339a6231"
   },
   "outputs": [],
   "source": [
    "ds = SeedDataset()\n",
    "print(f'training_set size: {len(ds)}')\n",
    "test_ds = SeedDataset(True)\n",
    "print(f'testing_set size: {len(test_ds)}')\n"
   ]
  },
  {
   "cell_type": "code",
   "execution_count": null,
   "id": "cM1PhAGro7y2",
   "metadata": {
    "executionInfo": {
     "elapsed": 15690,
     "status": "ok",
     "timestamp": 1621865795253,
     "user": {
      "displayName": "Liong Khai Jiet",
      "photoUrl": "https://lh3.googleusercontent.com/a-/AOh14Gi9KogFoqUcjOVNfh9iF8mXfIjukzhE71JuafAilg=s64",
      "userId": "08327391680322134159"
     },
     "user_tz": -480
    },
    "id": "cM1PhAGro7y2"
   },
   "outputs": [],
   "source": [
    "clf =  SGDClassifier(max_iter=1000, tol=1e-3)\n",
    "\n",
    "batch_size = 100 #73257 = all\n",
    "sdm = SVHNDataModule(batch_size=batch_size)\n",
    "sdm.setup()"
   ]
  },
  {
   "cell_type": "code",
   "execution_count": null,
   "id": "kJCohZ1DW-jh",
   "metadata": {
    "colab": {
     "base_uri": "https://localhost:8080/"
    },
    "executionInfo": {
     "elapsed": 1245,
     "status": "ok",
     "timestamp": 1621867214142,
     "user": {
      "displayName": "Liong Khai Jiet",
      "photoUrl": "https://lh3.googleusercontent.com/a-/AOh14Gi9KogFoqUcjOVNfh9iF8mXfIjukzhE71JuafAilg=s64",
      "userId": "08327391680322134159"
     },
     "user_tz": -480
    },
    "id": "kJCohZ1DW-jh",
    "outputId": "71e48b0d-b57a-4a55-e3f1-4f8b0725c540"
   },
   "outputs": [],
   "source": [
    "\n",
    "subset_size = 10000\n",
    "n_batch = subset_size / batch_size\n",
    "print(n_batch)\n",
    "x_train = list()\n",
    "y_train = list()\n",
    "i = 0\n",
    "for batch in sdm.train_dataloader():\n",
    "    x,y = batch\n",
    "    # input()\n",
    "    x = x.view(x.size(0), -1)\n",
    "    y = np.squeeze(y,1)\n",
    "    x_train.append(x)\n",
    "    y_train.append(y)\n",
    "len(x_train)\n",
    "x_train = np.concatenate(x_train,0)\n",
    "y_train = np.concatenate(y_train,0)\n",
    "x_train, _, y_train, __ = train_test_split(x_train, y_train, train_size=5000, shuffle=True)\n",
    "x_train[0].shape"
   ]
  },
  {
   "cell_type": "code",
   "execution_count": null,
   "id": "PoJ-73l10oLC",
   "metadata": {
    "colab": {
     "base_uri": "https://localhost:8080/"
    },
    "executionInfo": {
     "elapsed": 310,
     "status": "ok",
     "timestamp": 1621867291365,
     "user": {
      "displayName": "Liong Khai Jiet",
      "photoUrl": "https://lh3.googleusercontent.com/a-/AOh14Gi9KogFoqUcjOVNfh9iF8mXfIjukzhE71JuafAilg=s64",
      "userId": "08327391680322134159"
     },
     "user_tz": -480
    },
    "id": "PoJ-73l10oLC",
    "outputId": "76321bec-5ead-4978-f8a8-e5380bbe57a7"
   },
   "outputs": [],
   "source": [
    "x_test.shape[1]"
   ]
  },
  {
   "cell_type": "code",
   "execution_count": null,
   "id": "_Mi0lF8ofrkG",
   "metadata": {
    "colab": {
     "base_uri": "https://localhost:8080/"
    },
    "executionInfo": {
     "elapsed": 9916,
     "status": "ok",
     "timestamp": 1621867211274,
     "user": {
      "displayName": "Liong Khai Jiet",
      "photoUrl": "https://lh3.googleusercontent.com/a-/AOh14Gi9KogFoqUcjOVNfh9iF8mXfIjukzhE71JuafAilg=s64",
      "userId": "08327391680322134159"
     },
     "user_tz": -480
    },
    "id": "_Mi0lF8ofrkG",
    "outputId": "735c9a3e-86d8-4faa-8800-00f2af08afa4"
   },
   "outputs": [],
   "source": [
    "x_test = list()\n",
    "y_test = list()\n",
    "test_size = 10000\n",
    "# if(i<test_size):\n",
    "for batch in sdm.test_dataloader():\n",
    "    x,y = batch\n",
    "    x = x.view(x.size(0), -1)\n",
    "    y = np.squeeze(y,1)\n",
    "    x_test.append(x)\n",
    "    y_test.append(y)\n",
    "x_test = np.concatenate(x_test,0)\n",
    "y_test = np.concatenate(y_test,0)\n",
    "x_test, _, y_test, __ = train_test_split(x_test, y_test, train_size=2000, shuffle=True)\n",
    "x_test[0].shape"
   ]
  },
  {
   "cell_type": "code",
   "execution_count": null,
   "id": "R68_dIUlqwjj",
   "metadata": {
    "executionInfo": {
     "elapsed": 893,
     "status": "ok",
     "timestamp": 1621867803216,
     "user": {
      "displayName": "Liong Khai Jiet",
      "photoUrl": "https://lh3.googleusercontent.com/a-/AOh14Gi9KogFoqUcjOVNfh9iF8mXfIjukzhE71JuafAilg=s64",
      "userId": "08327391680322134159"
     },
     "user_tz": -480
    },
    "id": "R68_dIUlqwjj"
   },
   "outputs": [],
   "source": [
    "pca = PCA(n_components=0.9)\n",
    "pca.fit(x_train)\n",
    "x_train = pca.transform(x_train)\n",
    "x_test = pca.transform(x_test)\n",
    "\n",
    "scaler = preprocessing.MinMaxScaler(feature_range=(0, 1))\n",
    "scaler.fit(x_train)\n",
    "x_train = scaler.transform(x_train)\n",
    "x_test = scaler.transform(x_test)"
   ]
  },
  {
   "cell_type": "code",
   "execution_count": null,
   "id": "56tN3Ej9Ah6h",
   "metadata": {
    "colab": {
     "base_uri": "https://localhost:8080/",
     "height": 285
    },
    "executionInfo": {
     "elapsed": 902,
     "status": "ok",
     "timestamp": 1621867815914,
     "user": {
      "displayName": "Liong Khai Jiet",
      "photoUrl": "https://lh3.googleusercontent.com/a-/AOh14Gi9KogFoqUcjOVNfh9iF8mXfIjukzhE71JuafAilg=s64",
      "userId": "08327391680322134159"
     },
     "user_tz": -480
    },
    "id": "56tN3Ej9Ah6h",
    "outputId": "a10c55d5-cae4-4790-e454-8394de6bc240"
   },
   "outputs": [],
   "source": [
    "# pca = PCA(n_components=2)\n",
    "# # pca_res = pca.fit_transform(x_test)\n",
    "plt.scatter(x_test[:, 0], x_test[:, 1], c=y_test,cmap=plt.cm.get_cmap('Set1', 10))"
   ]
  },
  {
   "cell_type": "code",
   "execution_count": null,
   "id": "coordinated-assault",
   "metadata": {
    "executionInfo": {
     "elapsed": 45,
     "status": "ok",
     "timestamp": 1621865804077,
     "user": {
      "displayName": "Liong Khai Jiet",
      "photoUrl": "https://lh3.googleusercontent.com/a-/AOh14Gi9KogFoqUcjOVNfh9iF8mXfIjukzhE71JuafAilg=s64",
      "userId": "08327391680322134159"
     },
     "user_tz": -480
    },
    "id": "coordinated-assault"
   },
   "outputs": [],
   "source": [
    "# plt.figure(figsize=(20,4))\n",
    "# for index, (image, label) in enumerate(zip(x_train[0:5], y_train[0:5])):\n",
    "#  plt.subplot(1, 5, index + 1)\n",
    "#  plt.imshow(np.reshape(image, (32,32,3)), cmap=plt.cm.gray)\n",
    "#  plt.title('Training: %i\\n' % label, fontsize = 20)"
   ]
  },
  {
   "cell_type": "markdown",
   "id": "automated-mobile",
   "metadata": {
    "id": "automated-mobile"
   },
   "source": [
    "# SVM"
   ]
  },
  {
   "cell_type": "code",
   "execution_count": null,
   "id": "XD6VKBbkSyJd",
   "metadata": {
    "executionInfo": {
     "elapsed": 44,
     "status": "ok",
     "timestamp": 1621865804078,
     "user": {
      "displayName": "Liong Khai Jiet",
      "photoUrl": "https://lh3.googleusercontent.com/a-/AOh14Gi9KogFoqUcjOVNfh9iF8mXfIjukzhE71JuafAilg=s64",
      "userId": "08327391680322134159"
     },
     "user_tz": -480
    },
    "id": "XD6VKBbkSyJd"
   },
   "outputs": [],
   "source": [
    "target_names = ['class_1', 'class_2',\n",
    "                'class_3', 'class_4', 'class_5',\n",
    "                'class_6', 'class_7', 'class_8','class_9','class_0']\n",
    "\n",
    "\n",
    "def train_model(m):\n",
    "    m.fit(x_train,y_train)\n",
    "    print(m.score(x_test,y_test))\n",
    "\n",
    "# svm_linear = SVC(kernel='linear',cache_size = 500)\n",
    "# train_model(svm_linear)\n",
    "# Grid search is used to find the gamma and c hyperparameter\n",
    "# c = 1, 0.\n",
    "# c = 10, 0.1816"
   ]
  },
  {
   "cell_type": "code",
   "execution_count": null,
   "id": "voluntary-puzzle",
   "metadata": {
    "executionInfo": {
     "elapsed": 45,
     "status": "ok",
     "timestamp": 1621865804080,
     "user": {
      "displayName": "Liong Khai Jiet",
      "photoUrl": "https://lh3.googleusercontent.com/a-/AOh14Gi9KogFoqUcjOVNfh9iF8mXfIjukzhE71JuafAilg=s64",
      "userId": "08327391680322134159"
     },
     "user_tz": -480
    },
    "id": "voluntary-puzzle"
   },
   "outputs": [],
   "source": [
    "# import pickle\n",
    "# filename = 'finalized_model.sav'\n",
    "# # pickle.dump(svm_linear, open(filename, 'wb'))\n",
    "# loaded_model = pickle.load(open(filename, 'rb'))\n",
    "# result = loaded_model.score(x_test, y_test)\n",
    "# print(result)"
   ]
  },
  {
   "cell_type": "code",
   "execution_count": null,
   "id": "ApBuJ9ay8hc0",
   "metadata": {
    "executionInfo": {
     "elapsed": 355,
     "status": "ok",
     "timestamp": 1621865817242,
     "user": {
      "displayName": "Liong Khai Jiet",
      "photoUrl": "https://lh3.googleusercontent.com/a-/AOh14Gi9KogFoqUcjOVNfh9iF8mXfIjukzhE71JuafAilg=s64",
      "userId": "08327391680322134159"
     },
     "user_tz": -480
    },
    "id": "ApBuJ9ay8hc0"
   },
   "outputs": [],
   "source": [
    "# weights = loaded_model.coef_\n",
    "def imsho_features(weights):\n",
    "    plt.figure(figsize=(10,10))\n",
    "    for i in range(9):\n",
    "        plt.subplot(3,3,i+1)\n",
    "        plt.xticks([])\n",
    "        plt.yticks([])\n",
    "        plt.grid(False)\n",
    "        plo_feature(weights,i)\n",
    "    plt.show()\n",
    "def plo_feature(w,number=0):\n",
    "    no = number-1\n",
    "    image = w[no]\n",
    "    min = np.abs(image).max()\n",
    "    img = (image).reshape(32,32)\n",
    "    plt.imshow(img, vmin=-min,vmax=min, cmap=\"viridis\",interpolation='nearest')\n",
    "# imsho_features(weights)\n"
   ]
  },
  {
   "cell_type": "code",
   "execution_count": null,
   "id": "studied-coordinator",
   "metadata": {
    "executionInfo": {
     "elapsed": 2,
     "status": "ok",
     "timestamp": 1621865817758,
     "user": {
      "displayName": "Liong Khai Jiet",
      "photoUrl": "https://lh3.googleusercontent.com/a-/AOh14Gi9KogFoqUcjOVNfh9iF8mXfIjukzhE71JuafAilg=s64",
      "userId": "08327391680322134159"
     },
     "user_tz": -480
    },
    "id": "studied-coordinator"
   },
   "outputs": [],
   "source": [
    "\n",
    "# res = svm_linear.predict(x_test)\n",
    "# print(classification_report(y_test, res, target_names=target_names))"
   ]
  },
  {
   "cell_type": "code",
   "execution_count": null,
   "id": "continuing-sitting",
   "metadata": {
    "colab": {
     "base_uri": "https://localhost:8080/"
    },
    "executionInfo": {
     "elapsed": 2870,
     "status": "ok",
     "timestamp": 1621867887727,
     "user": {
      "displayName": "Liong Khai Jiet",
      "photoUrl": "https://lh3.googleusercontent.com/a-/AOh14Gi9KogFoqUcjOVNfh9iF8mXfIjukzhE71JuafAilg=s64",
      "userId": "08327391680322134159"
     },
     "user_tz": -480
    },
    "id": "continuing-sitting",
    "outputId": "5855f1d4-6537-40ca-c336-803026c6714e"
   },
   "outputs": [],
   "source": [
    "import pickle\n",
    "filename = 'finalized_rbf_model.sav'\n",
    "svm_rbf = SVC(kernel='rbf',cache_size = 500)\n",
    "train_model(svm_rbf)\n",
    "pickle.dump(svm_rbf, open(filename, 'wb'))"
   ]
  },
  {
   "cell_type": "code",
   "execution_count": null,
   "id": "UxBIIH2dxujg",
   "metadata": {
    "colab": {
     "base_uri": "https://localhost:8080/",
     "height": 708
    },
    "executionInfo": {
     "elapsed": 4798,
     "status": "error",
     "timestamp": 1621867892519,
     "user": {
      "displayName": "Liong Khai Jiet",
      "photoUrl": "https://lh3.googleusercontent.com/a-/AOh14Gi9KogFoqUcjOVNfh9iF8mXfIjukzhE71JuafAilg=s64",
      "userId": "08327391680322134159"
     },
     "user_tz": -480
    },
    "id": "UxBIIH2dxujg",
    "outputId": "6e47d563-5bbb-4384-d86d-3ab3433320da"
   },
   "outputs": [],
   "source": [
    "from matplotlib.colors import ListedColormap\n",
    "\n",
    "def plot_decision_regions(X,y,classifier,test_idx=None,resolution=0.02):\n",
    "    \n",
    "    # Initialise the marker types and colors\n",
    "    markers = ('s','x','o','^','v')\n",
    "    colors = ('red','blue','lightgreen','gray','cyan')\n",
    "    color_Map = ListedColormap(colors[:len(np.unique(y))]) #we take the color mapping correspoding to the \n",
    "                                                            #amount of classes in the target data\n",
    "    \n",
    "    # Parameters for the graph and decision surface\n",
    "    x1_min = X[:,0].min() - 1\n",
    "    x1_max = X[:,0].max() + 1\n",
    "    x2_min = X[:,1].min() - 1\n",
    "    x2_max = X[:,1].max() + 1\n",
    "    xx1, xx2 = np.meshgrid(np.arange(x1_min,x1_max,resolution),\n",
    "                           np.arange(x2_min,x2_max,resolution))\n",
    "    \n",
    "    Z = classifier.predict(np.array([xx1.ravel(),xx2.ravel()]).T)\n",
    "    Z = Z.reshape(xx1.shape)\n",
    "    \n",
    "    plt.contour(xx1,xx2,Z,alpha=0.4,cmap = color_Map)\n",
    "    plt.xlim(xx1.min(),xx1.max())\n",
    "    plt.ylim(xx2.min(),xx2.max())\n",
    "    \n",
    "    # Plot samples\n",
    "    X_test, Y_test = X[test_idx,:], y[test_idx]\n",
    "    \n",
    "    for idx, cl in enumerate(np.unique(y)):\n",
    "        plt.scatter(x = X[y == cl, 0], y = X[y == cl, 1],\n",
    "                    alpha = 0.8, c = color_Map(idx),\n",
    "                    marker = markers[idx], label = cl\n",
    "                   )\n",
    "x_train.shape[1]\n",
    "plot_decision_regions(X = x_test,\n",
    "                       y = y_test\n",
    "                      , classifier = svm_rbf\n",
    "                      )"
   ]
  },
  {
   "cell_type": "code",
   "execution_count": null,
   "id": "qnKRrkA9SQbd",
   "metadata": {
    "executionInfo": {
     "elapsed": 12,
     "status": "aborted",
     "timestamp": 1621866362478,
     "user": {
      "displayName": "Liong Khai Jiet",
      "photoUrl": "https://lh3.googleusercontent.com/a-/AOh14Gi9KogFoqUcjOVNfh9iF8mXfIjukzhE71JuafAilg=s64",
      "userId": "08327391680322134159"
     },
     "user_tz": -480
    },
    "id": "qnKRrkA9SQbd"
   },
   "outputs": [],
   "source": [
    "# svm_poly = SVC(kernel='poly',degree = 3,cache_size = 500)\n",
    "# train_model(svm_poly)"
   ]
  },
  {
   "cell_type": "code",
   "execution_count": null,
   "id": "CosQ-hnbeVYs",
   "metadata": {
    "executionInfo": {
     "elapsed": 41,
     "status": "aborted",
     "timestamp": 1621865804082,
     "user": {
      "displayName": "Liong Khai Jiet",
      "photoUrl": "https://lh3.googleusercontent.com/a-/AOh14Gi9KogFoqUcjOVNfh9iF8mXfIjukzhE71JuafAilg=s64",
      "userId": "08327391680322134159"
     },
     "user_tz": -480
    },
    "id": "CosQ-hnbeVYs"
   },
   "outputs": [],
   "source": [
    "svm_poly = SVC(kernel='poly',degree = 4,cache_size = 500)\n",
    "# train_model(svm_poly)"
   ]
  },
  {
   "cell_type": "code",
   "execution_count": null,
   "id": "Bdj0cfu7mn1H",
   "metadata": {
    "executionInfo": {
     "elapsed": 41,
     "status": "aborted",
     "timestamp": 1621865804083,
     "user": {
      "displayName": "Liong Khai Jiet",
      "photoUrl": "https://lh3.googleusercontent.com/a-/AOh14Gi9KogFoqUcjOVNfh9iF8mXfIjukzhE71JuafAilg=s64",
      "userId": "08327391680322134159"
     },
     "user_tz": -480
    },
    "id": "Bdj0cfu7mn1H"
   },
   "outputs": [],
   "source": [
    "svm_poly = SVC(kernel='poly',degree = 5,cache_size = 1000)\n",
    "# train_model(svm_poly)"
   ]
  },
  {
   "cell_type": "code",
   "execution_count": null,
   "id": "SRIRW4zYeBYE",
   "metadata": {
    "executionInfo": {
     "elapsed": 42,
     "status": "aborted",
     "timestamp": 1621865804084,
     "user": {
      "displayName": "Liong Khai Jiet",
      "photoUrl": "https://lh3.googleusercontent.com/a-/AOh14Gi9KogFoqUcjOVNfh9iF8mXfIjukzhE71JuafAilg=s64",
      "userId": "08327391680322134159"
     },
     "user_tz": -480
    },
    "id": "SRIRW4zYeBYE"
   },
   "outputs": [],
   "source": [
    "\n",
    "\n",
    "fig, ax = plt.subplots()\n",
    "# title for the plots\n",
    "title = ('Decision surface of linear SVC ')\n",
    "# Set-up grid for plotting.\n",
    "X0, X1 = pca_res[:, 0], pca_res[:, 1]\n",
    "xx, yy = make_meshgrid(X0, X1)\n",
    "\n",
    "plot_contours(ax, svm_poly, xx, yy, cmap=plt.cm.coolwarm, alpha=0.8)\n",
    "ax.scatter(X0, X1, c=y, cmap=plt.cm.coolwarm, s=20, edgecolors='k')\n",
    "ax.set_ylabel('y label here')\n",
    "ax.set_xlabel('x label here')\n",
    "ax.set_xticks(())\n",
    "ax.set_yticks(())\n",
    "ax.set_title(title)\n",
    "ax.legend()\n",
    "plt.show()"
   ]
  },
  {
   "cell_type": "code",
   "execution_count": null,
   "id": "RCLGafCkScW8",
   "metadata": {
    "executionInfo": {
     "elapsed": 42,
     "status": "aborted",
     "timestamp": 1621865804084,
     "user": {
      "displayName": "Liong Khai Jiet",
      "photoUrl": "https://lh3.googleusercontent.com/a-/AOh14Gi9KogFoqUcjOVNfh9iF8mXfIjukzhE71JuafAilg=s64",
      "userId": "08327391680322134159"
     },
     "user_tz": -480
    },
    "id": "RCLGafCkScW8"
   },
   "outputs": [],
   "source": []
  },
  {
   "cell_type": "markdown",
   "id": "opening-chocolate",
   "metadata": {
    "id": "opening-chocolate"
   },
   "source": [
    "# Tensorflow board"
   ]
  },
  {
   "cell_type": "code",
   "execution_count": null,
   "id": "outside-yacht",
   "metadata": {
    "executionInfo": {
     "elapsed": 42,
     "status": "aborted",
     "timestamp": 1621865804085,
     "user": {
      "displayName": "Liong Khai Jiet",
      "photoUrl": "https://lh3.googleusercontent.com/a-/AOh14Gi9KogFoqUcjOVNfh9iF8mXfIjukzhE71JuafAilg=s64",
      "userId": "08327391680322134159"
     },
     "user_tz": -480
    },
    "id": "outside-yacht"
   },
   "outputs": [],
   "source": []
  },
  {
   "cell_type": "code",
   "execution_count": null,
   "id": "superb-majority",
   "metadata": {
    "executionInfo": {
     "elapsed": 42,
     "status": "aborted",
     "timestamp": 1621865804086,
     "user": {
      "displayName": "Liong Khai Jiet",
      "photoUrl": "https://lh3.googleusercontent.com/a-/AOh14Gi9KogFoqUcjOVNfh9iF8mXfIjukzhE71JuafAilg=s64",
      "userId": "08327391680322134159"
     },
     "user_tz": -480
    },
    "id": "superb-majority"
   },
   "outputs": [],
   "source": []
  }
 ],
 "metadata": {
  "colab": {
   "collapsed_sections": [],
   "name": "project1_svm.ipynb",
   "provenance": []
  },
  "kernelspec": {
   "display_name": "Python 3",
   "language": "python",
   "name": "python3"
  },
  "language_info": {
   "codemirror_mode": {
    "name": "ipython",
    "version": 3
   },
   "file_extension": ".py",
   "mimetype": "text/x-python",
   "name": "python",
   "nbconvert_exporter": "python",
   "pygments_lexer": "ipython3",
   "version": "3.7.10"
  }
 },
 "nbformat": 4,
 "nbformat_minor": 5
}
